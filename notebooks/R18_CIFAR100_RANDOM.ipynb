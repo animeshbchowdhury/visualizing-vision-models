{
 "cells": [
  {
   "cell_type": "code",
   "execution_count": 1,
   "id": "8ae96882",
   "metadata": {},
   "outputs": [],
   "source": [
    "from __future__ import print_function, division\n",
    "import torch\n",
    "import torch.nn as nn\n",
    "import torch.optim as optim\n",
    "from torch.optim import lr_scheduler\n",
    "import torch.backends.cudnn as cudnn\n",
    "import numpy as np\n",
    "import torchvision\n",
    "from torchvision import datasets, transforms\n",
    "import matplotlib.pyplot as plt\n",
    "import time\n",
    "import os\n",
    "import copy\n",
    "import sys"
   ]
  },
  {
   "cell_type": "code",
   "execution_count": 2,
   "id": "9fe7d933",
   "metadata": {},
   "outputs": [],
   "source": [
    "from pathlib import Path\n",
    "sys.path.insert(0,os.path.abspath('../'))\n",
    "sys.path.insert(0,os.path.abspath('../utilities'))"
   ]
  },
  {
   "cell_type": "code",
   "execution_count": 3,
   "id": "9ef53949",
   "metadata": {},
   "outputs": [],
   "source": [
    "from utilities.resnet import resnet18"
   ]
  },
  {
   "cell_type": "code",
   "execution_count": 4,
   "id": "e6668da6",
   "metadata": {},
   "outputs": [],
   "source": [
    "from utilities.utils import *"
   ]
  },
  {
   "cell_type": "markdown",
   "id": "2924fa7d",
   "metadata": {},
   "source": [
    "## Resnet 18 on CIFAR-100"
   ]
  },
  {
   "cell_type": "code",
   "execution_count": 5,
   "id": "d7d46654",
   "metadata": {},
   "outputs": [],
   "source": [
    "model = resnet18(num_classes=100)\n",
    "#PRETRAINED_MODEL_PATH=os.path.join('/home/abc586/courseWork/introtodlsystem/finalProject/visualizing-vision-models/pretrained-models','resnet18_seed_566_epochs_100.pth')\n",
    "#model.load_state_dict(torch.load(PRETRAINED_MODEL_PATH))"
   ]
  },
  {
   "cell_type": "code",
   "execution_count": 6,
   "id": "e70de68b",
   "metadata": {},
   "outputs": [],
   "source": [
    "LABEL='R18-CIFAR100'\n",
    "TYPE='RANDOM'"
   ]
  },
  {
   "cell_type": "markdown",
   "id": "5bb68ad2",
   "metadata": {},
   "source": [
    "## Getting the hooks for each layers"
   ]
  },
  {
   "cell_type": "code",
   "execution_count": 7,
   "id": "e0b72faf",
   "metadata": {},
   "outputs": [],
   "source": [
    "hookLayersActivationDict = {}\n",
    "activationDict = {}"
   ]
  },
  {
   "cell_type": "code",
   "execution_count": 8,
   "id": "61c5ccf7",
   "metadata": {},
   "outputs": [],
   "source": [
    "modelNamedModules = dict(model.named_modules())"
   ]
  },
  {
   "cell_type": "code",
   "execution_count": 9,
   "id": "9f3ca8ba",
   "metadata": {},
   "outputs": [],
   "source": [
    "hookLayers = []\n",
    "for i in modelNamedModules.keys():\n",
    "    if i.__contains__(\"bn\") or i.__contains__(\"relu\") or i.__contains__(\"avgpool\") or i.__contains__(\"fc\") or i.__contains__(\"maxpool\") :\n",
    "        hookLayers.append(i)"
   ]
  },
  {
   "cell_type": "code",
   "execution_count": 10,
   "id": "669a285f",
   "metadata": {},
   "outputs": [],
   "source": [
    "for layer in hookLayers:\n",
    "    h = model.get_submodule(layer).register_forward_hook(getActivation(layer,hookLayersActivationDict))"
   ]
  },
  {
   "cell_type": "markdown",
   "id": "549d8ee1",
   "metadata": {},
   "source": [
    "## CIFAR 100"
   ]
  },
  {
   "cell_type": "code",
   "execution_count": 11,
   "id": "06bb0422",
   "metadata": {},
   "outputs": [
    {
     "name": "stdout",
     "output_type": "stream",
     "text": [
      "Files already downloaded and verified\n"
     ]
    }
   ],
   "source": [
    "TRAIN_BATCH_SIZE = 256\n",
    "TEST_BATCH_SIZE = 256\n",
    "NUM_WORKERS = 0\n",
    "\n",
    "normalize = transforms.Normalize(mean=[0.5071, 0.4867, 0.4408],\n",
    "                                     std=[0.2675, 0.2565, 0.2761])\n",
    "\n",
    "train_dataset = datasets.CIFAR100(root='./data', train=True, transform=transforms.Compose([\n",
    "            transforms.RandomHorizontalFlip(),\n",
    "            transforms.RandomCrop(32, 4),\n",
    "            transforms.ToTensor(),\n",
    "            normalize,\n",
    "        ]), download=True)\n",
    "\n",
    "train_loader = torch.utils.data.DataLoader(train_dataset,\n",
    "        batch_size=TRAIN_BATCH_SIZE, shuffle=True,\n",
    "        num_workers=NUM_WORKERS, pin_memory=True)\n",
    "\n",
    "val_loader = torch.utils.data.DataLoader(\n",
    "        datasets.CIFAR100(root='./data', train=False, transform=transforms.Compose([\n",
    "            transforms.ToTensor(),\n",
    "            normalize,\n",
    "        ])),\n",
    "        batch_size=TEST_BATCH_SIZE, shuffle=False,\n",
    "        num_workers=NUM_WORKERS, pin_memory=True)"
   ]
  },
  {
   "cell_type": "code",
   "execution_count": 12,
   "id": "d6da1699",
   "metadata": {},
   "outputs": [],
   "source": [
    "device = torch.device(\"cuda\" if torch.cuda.is_available() else \"cpu\")"
   ]
  },
  {
   "cell_type": "code",
   "execution_count": null,
   "id": "36a4ccd9",
   "metadata": {},
   "outputs": [],
   "source": []
  },
  {
   "cell_type": "code",
   "execution_count": 13,
   "id": "42efd139",
   "metadata": {},
   "outputs": [
    {
     "name": "stdout",
     "output_type": "stream",
     "text": [
      "Iteration:   0%|          | 0/40 [00:00<?, ?it/s]\n"
     ]
    }
   ],
   "source": [
    "model = model.to(device)\n",
    "valid_acc,activationDict = evaluate(model,device,val_loader,hookLayers,hookLayersActivationDict)"
   ]
  },
  {
   "cell_type": "markdown",
   "id": "ec466e41",
   "metadata": {},
   "source": [
    "## HSIC calculation and plots"
   ]
  },
  {
   "cell_type": "code",
   "execution_count": 14,
   "id": "80aba885",
   "metadata": {},
   "outputs": [],
   "source": [
    "col1,col2,hsicScoreList = getLayerWiseOutputCorrelation(hookLayers,hookLayers,activationDict,activationDict)"
   ]
  },
  {
   "cell_type": "code",
   "execution_count": 15,
   "id": "1e7141ec",
   "metadata": {},
   "outputs": [],
   "source": [
    "import pandas as pd\n",
    "import seaborn as sns"
   ]
  },
  {
   "cell_type": "code",
   "execution_count": 16,
   "id": "8124d64a",
   "metadata": {},
   "outputs": [],
   "source": [
    "import matplotlib.ticker as ticker"
   ]
  },
  {
   "cell_type": "code",
   "execution_count": 17,
   "id": "c78ed1a5",
   "metadata": {},
   "outputs": [],
   "source": [
    "hsicData = {\n",
    "    'L1' : col1,\n",
    "    'L2' : col2,\n",
    "    'hsic':hsicScoreList\n",
    "}\n",
    "\n",
    "hsicDataFrame = pd.DataFrame(data=hsicData)\n",
    "hsicDataFrame = hsicDataFrame.pivot(\"L1\", \"L2\", \"hsic\")"
   ]
  },
  {
   "cell_type": "code",
   "execution_count": 18,
   "id": "21fe94c8",
   "metadata": {},
   "outputs": [
    {
     "name": "stderr",
     "output_type": "stream",
     "text": [
      "/tmp/ipykernel_1800290/3750928071.py:9: MatplotlibDeprecationWarning: savefig() got unexpected keyword argument \"fmt\" which is no longer supported as of 3.3 and will become an error in 3.6\n",
      "  plt.savefig(LABEL+\"_\"+TYPE+'.pdf',fmt='pdf',bbox_inches='tight')\n"
     ]
    },
    {
     "data": {
      "image/png": "[encoded data removed]",
      "text/plain": [
       "<Figure size 1080x720 with 2 Axes>"
      ]
     },
     "metadata": {
      "needs_background": "light"
     },
     "output_type": "display_data"
    }
   ],
   "source": [
    "plt.figure(figsize=(15,10))\n",
    "ax = sns.heatmap(hsicDataFrame.T)\n",
    "plt.xlabel(\"Layers \"+LABEL,fontsize='36')\n",
    "plt.ylabel(\"Layers \"+LABEL,fontsize='36')\n",
    "ax.tick_params(axis='both', which='major', labelsize=20)\n",
    "ax.set_xticks(ax.get_xticks()[::4])\n",
    "ax.set_yticks(ax.get_yticks()[::4])\n",
    "ax.invert_yaxis()\n",
    "plt.savefig(LABEL+\"_\"+TYPE+'.pdf',fmt='pdf',bbox_inches='tight')"
   ]
  },
  {
   "cell_type": "code",
   "execution_count": null,
   "id": "ca1769e9",
   "metadata": {},
   "outputs": [],
   "source": []
  }
 ],
 "metadata": {
  "kernelspec": {
   "display_name": "Python 3 (ipykernel)",
   "language": "python",
   "name": "python3"
  },
  "language_info": {
   "codemirror_mode": {
    "name": "ipython",
    "version": 3
   },
   "file_extension": ".py",
   "mimetype": "text/x-python",
   "name": "python",
   "nbconvert_exporter": "python",
   "pygments_lexer": "ipython3",
   "version": "3.9.7"
  }
 },
 "nbformat": 4,
 "nbformat_minor": 5
}
